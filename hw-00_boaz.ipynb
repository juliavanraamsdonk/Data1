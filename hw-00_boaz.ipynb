{
 "cells": [
  {
   "cell_type": "markdown",
   "metadata": {},
   "source": [
    "# <img style=\"float: left; padding-right: 10px; width: 200px\" src=\"https://raw.githubusercontent.com/trivikverma/researchgroup/master/assets/media/logo.png\"> EPA-122A *Spatial* Data Science \n",
    "\n",
    "\n",
    "## Homework 0: Introduction to Python and its Numerical Stack\n",
    "\n",
    "**TU Delft**<br>\n",
    "**Q2 2023**<br>\n",
    "**Instructor:** Trivik Verma <br>\n",
    "**[Centre for Urban Science & Policy]( https://cusp.tbm.tudelft.nl/)** <br>\n",
    "\n",
    "\n",
    "---\n",
    "\n"
   ]
  },
  {
   "cell_type": "markdown",
   "metadata": {
    "tags": []
   },
   "source": [
    "# Homework Exercises"
   ]
  },
  {
   "cell_type": "markdown",
   "metadata": {},
   "source": [
    "## Exercise 1\n",
    "### Write a properly documented function with the following behaviour:\n",
    "\n",
    "- It has a meaningful name (i.e. it is related to its behaviour).\n",
    "- It takes an integer that represents the length of a sequence that will be created.\n",
    "- It creates a dictionary that is empty.\n",
    "- It loops over the sequence and stores each number as the key of an entry in the dictionary, assigning either \"odd\" or \"even\" to the value, depending on the type of number.\n",
    "\n",
    "- Returns the dictionary."
   ]
  },
  {
   "cell_type": "code",
   "execution_count": 73,
   "metadata": {},
   "outputs": [],
   "source": [
    "\n",
    "\n",
    "def odd_even_dict(length):\n",
    "\n",
    "     for num in range(length):\n",
    "        if num % 2 == 0:\n",
    "            odd_even_dict[num] = \"even\"\n",
    "        else:\n",
    "            odd_even_dict[num] = \"odd\"\n",
    "            return odd_even_dict\n",
    "        \n"
   ]
  },
  {
   "cell_type": "markdown",
   "metadata": {},
   "source": [
    "## Exercise 2\n",
    "### Create a tuple called `tup` with the following seven objects: \n",
    "\n",
    "- The first element is an integer of your choice\n",
    "- The second element is a float of your choice  \n",
    "- The third element is the sum of the first two elements\n",
    "- The fourth element is the difference of the first two elements\n",
    "- The fifth element is the first element divided by the second element\n",
    "\n",
    "- Display the output of `tup`.  What is the type of the variable `tup`? What happens if you try and chage an item in the tuple? "
   ]
  },
  {
   "cell_type": "code",
   "execution_count": 27,
   "metadata": {},
   "outputs": [
    {
     "name": "stdout",
     "output_type": "stream",
     "text": [
      "(5, 1.5, 6.5, 3.5, 3.3333333333333335)\n"
     ]
    }
   ],
   "source": [
    "\n",
    "a = 5\n",
    "b = 1.5\n",
    "c = a + b\n",
    "d = a - b\n",
    "e = a / b\n",
    "\n",
    "tup = (a, b, c, d, e,)\n",
    "print(tup)\n",
    "#what I did seemed to easy maybe\n"
   ]
  },
  {
   "cell_type": "markdown",
   "metadata": {},
   "source": [
    "## Exercise 3\n",
    "### Build a list that contains every prime number between 1 and 100, in two different ways:\n",
    "    \n",
    "1. Using for loops and conditional if statements.\n",
    "2. **(Stretch Goal)** Using a list comprehension.  You should be able to do this in one line of code. **Hint:** it might help to look up the function `all()` in the documentation."
   ]
  },
  {
   "cell_type": "code",
   "execution_count": 72,
   "metadata": {},
   "outputs": [
    {
     "name": "stdout",
     "output_type": "stream",
     "text": [
      "[2, 3, 5, 7, 11, 13, 17, 19, 23, 29, 31, 37, 41, 43, 47, 53, 59, 61, 67, 71, 73, 79, 83, 89, 97]\n",
      "[2, 3, 5, 7, 11, 13, 17, 19, 23, 29, 31, 37, 41, 43, 47, 53, 59, 61, 67, 71, 73, 79, 83, 89, 97]\n"
     ]
    }
   ],
   "source": [
    "\n",
    "\n",
    "prime_numbers = []\n",
    "\n",
    "for num in range(2, 100): #check primeness for numbers 2-100\n",
    "    is_prime = True\n",
    "    for i in range(2, int(num ** 0.5) + 1): \n",
    "        if num % i == 0:\n",
    "                is_prime = False\n",
    "                break\n",
    "    if is_prime:\n",
    "        prime_numbers.append(num) #append adds prime numbers to the list\n",
    "    \n",
    "print(prime_numbers)\n",
    "\n",
    "prime_numbers2 = [num for num in range(2, 100) if all(num % i != 0 for i in range(2, int(num ** 0.5) + 1))]\n",
    "\n",
    "print(prime_numbers2)"
   ]
  },
  {
   "cell_type": "markdown",
   "metadata": {},
   "source": [
    "## Exercise 4\n",
    "### Write a function to test the \"prime-ness\" of a number.\n",
    "    \n",
    "In Exercise 4, above, you wrote code that generated a list of the prime numbers between 1 and 100. Now, write a function called `isprime()` that takes in a positive integer $N$, and determines whether or not it is prime.  Return `True` if it's prime and return `False` if it isn't. Then, using a list comprehension and `isprime()`, create a list `myprimes` that contains all the prime numbers less than 100.  "
   ]
  },
  {
   "cell_type": "code",
   "execution_count": 78,
   "metadata": {},
   "outputs": [
    {
     "name": "stdout",
     "output_type": "stream",
     "text": [
      "False\n"
     ]
    }
   ],
   "source": [
    "def is_prime(num):\n",
    "    \n",
    "    if num <= 1:\n",
    "        return False  # Numbers less than or equal to 1 are not prime\n",
    "    if num <= 3:\n",
    "        return True   # 2 and 3 are prime numbers\n",
    "    if num % 2 == 0 or num % 3 == 0:\n",
    "        return False  # Eliminate multiples of 2 and 3\n",
    "    \n",
    "    i = 5\n",
    "    while i * i <= num:\n",
    "        if num % i == 0 or num % (i + 2) == 0:\n",
    "            return False\n",
    "        i += 6\n",
    "    \n",
    "    return True\n",
    "\n",
    "print (is_prime(num))\n",
    "\n",
    "\n"
   ]
  },
  {
   "cell_type": "markdown",
   "metadata": {},
   "source": [
    "---"
   ]
  },
  {
   "cell_type": "markdown",
   "metadata": {},
   "source": [
    "## Optional Exercise\n",
    "### Try to reproduce, using markdown and the different tools the notebook affords you, the following WikiPedia entry:\n",
    "\n",
    "\n",
    "> https://en.wikipedia.org/wiki/Puppy\n"
   ]
  },
  {
   "cell_type": "code",
   "execution_count": 5,
   "metadata": {},
   "outputs": [
    {
     "data": {
      "text/html": [
       "\n",
       "        <iframe\n",
       "            width=\"700\"\n",
       "            height=\"500\"\n",
       "            src=\"https://en.wikipedia.org/wiki/Puppy\"\n",
       "            frameborder=\"0\"\n",
       "            allowfullscreen\n",
       "            \n",
       "        ></iframe>\n",
       "        "
      ],
      "text/plain": [
       "<IPython.lib.display.IFrame at 0x10d815e20>"
      ]
     },
     "execution_count": 5,
     "metadata": {},
     "output_type": "execute_result"
    }
   ],
   "source": [
    "from IPython.display import IFrame\n",
    "IFrame('https://en.wikipedia.org/wiki/Puppy', 700, 500)"
   ]
  },
  {
   "cell_type": "markdown",
   "metadata": {},
   "source": [
    "Do not over think it. Focuse and pay special attention to getting the bold, italics, links, headlines and lists correctly formated, but don't worry too much about the overall layout. Bonus if you manage to insert the image as well (it does not need to be properly placed as in the original page)!"
   ]
  },
  {
   "cell_type": "code",
   "execution_count": 6,
   "metadata": {},
   "outputs": [],
   "source": [
    "# your code here\n"
   ]
  }
 ],
 "metadata": {
  "kernelspec": {
   "display_name": "Python 3",
   "language": "python",
   "name": "python3"
  },
  "language_info": {
   "codemirror_mode": {
    "name": "ipython",
    "version": 3
   },
   "file_extension": ".py",
   "mimetype": "text/x-python",
   "name": "python",
   "nbconvert_exporter": "python",
   "pygments_lexer": "ipython3",
   "version": "3.12.5"
  }
 },
 "nbformat": 4,
 "nbformat_minor": 4
}
