{
 "cells": [
  {
   "cell_type": "markdown",
   "metadata": {},
   "source": [
    "## Lab 4 - part 2: Data Weights and Autocorellation\n",
    "\n",
    "**TU Delft and WUR**<br>\n",
    "**Q1 2024**<br>\n",
    "**Instructor:** Theodoros Chatzivasileiadis <br>\n",
    "**Instructor:** Hans Hoogenboom <br>\n",
    "**TA:** Ka Yi Chua <br>\n",
    "**[Metropolitan Data 1](https://jhoogenboom.github.io/spatial-data-science/_index.html)** <br>\n",
    "\n"
   ]
  },
  {
   "cell_type": "markdown",
   "metadata": {},
   "source": [
    "## Exercise 4a: Spatial Autocorrelation and ESDA "
   ]
  },
  {
   "cell_type": "markdown",
   "metadata": {},
   "source": [
    "USE the Liverpool IMD data we have been using in previous sessions. This will require you to:\n",
    "\n",
    "* Load up the IMD dataset for Liverpool.\n",
    "* Create a choropleth of the `imd_score` variable.\n",
    "* Compute the spatial weights matrix for the LSOAs. Think of one criterium to build it that you think would fit this variable (e.g. contiguity, distance-based, etc.), and apply it.\n",
    "* Create the standardized version of the IMD scores.\n",
    "* Calculate the spatial lag of the standardized scores.\n",
    "* Create the Moran Plot.\n",
    "* Calculate the value of Moran's I as well as its significance level.\n",
    "* Perform a LISA analysis and generate a map of the results. What are the main patterns?"
   ]
  },
  {
   "cell_type": "code",
   "execution_count": 2,
   "metadata": {},
   "outputs": [],
   "source": [
    "import osmnx as ox, geopandas as gpd\n",
    "import pandas as pd\n",
    "import matplotlib\n",
    "%matplotlib inline\n",
    "ox.settings.log_console=True\n",
    "ox.settings.use_cache=True"
   ]
  },
  {
   "cell_type": "code",
   "execution_count": null,
   "metadata": {},
   "outputs": [],
   "source": []
  },
  {
   "cell_type": "markdown",
   "metadata": {},
   "source": [
    "For this part I would like you to experiment with Data from Amstedam. However this will require you to find the dataset yourself!\n",
    "\n",
    "## Question 1: Building a Contiguity-Based Weight Matrix\n",
    "\n",
    "Use PySAL to create a contiguity-based weight matrix (W) for a given spatial dataset of polygons. Write a function create_contiguity_weights that:\n",
    "\n",
    "    Reads in a shapefile of polygons.\n",
    "    Constructs a Queen contiguity-based spatial weights matrix.\n",
    "    Returns the weight matrix.\n"
   ]
  },
  {
   "cell_type": "code",
   "execution_count": 2,
   "metadata": {},
   "outputs": [
    {
     "name": "stderr",
     "output_type": "stream",
     "text": [
      "c:\\Users\\boazg\\AppData\\Local\\Programs\\Python\\Python312\\Lib\\site-packages\\spaghetti\\network.py:41: FutureWarning: The next major release of pysal/spaghetti (2.0.0) will drop support for all ``libpysal.cg`` geometries. This change is a first step in refactoring ``spaghetti`` that is expected to result in dramatically reduced runtimes for network instantiation and operations. Users currently requiring network and point pattern input as ``libpysal.cg`` geometries should prepare for this simply by converting to ``shapely`` geometries.\n",
      "  warnings.warn(dep_msg, FutureWarning, stacklevel=1)\n",
      "c:\\Users\\boazg\\AppData\\Local\\Programs\\Python\\Python312\\Lib\\site-packages\\tqdm\\auto.py:21: TqdmWarning: IProgress not found. Please update jupyter and ipywidgets. See https://ipywidgets.readthedocs.io/en/stable/user_install.html\n",
      "  from .autonotebook import tqdm as notebook_tqdm\n"
     ]
    }
   ],
   "source": [
    "import seaborn as sns\n",
    "import pandas as pd\n",
    "import pysal as ps\n",
    "from pysal.lib import weights\n",
    "from pysal.explore import esda\n",
    "from libpysal.io import open as psopen\n",
    "import geopandas as gpd\n",
    "import numpy as np\n",
    "import matplotlib.pyplot as plt"
   ]
  },
  {
   "cell_type": "code",
   "execution_count": 47,
   "metadata": {},
   "outputs": [
    {
     "name": "stdout",
     "output_type": "stream",
     "text": [
      "True\n",
      "<class 'geopandas.geodataframe.GeoDataFrame'>\n",
      "RangeIndex: 32844 entries, 0 to 32843\n",
      "Data columns (total 64 columns):\n",
      " #   Column      Non-Null Count  Dtype   \n",
      "---  ------      --------------  -----   \n",
      " 0   lsoa11cd    32844 non-null  object  \n",
      " 1   lsoa11nm    32844 non-null  object  \n",
      " 2   lsoa11nmw   32844 non-null  object  \n",
      " 3   st_areasha  32844 non-null  float64 \n",
      " 4   st_lengths  32844 non-null  float64 \n",
      " 5   IMD_Rank    32844 non-null  int64   \n",
      " 6   IMD_Decile  32844 non-null  int64   \n",
      " 7   LSOA01NM    32844 non-null  object  \n",
      " 8   LADcd       32844 non-null  object  \n",
      " 9   LADnm       32844 non-null  object  \n",
      " 10  IMDScore    32844 non-null  float64 \n",
      " 11  IMDRank0    32844 non-null  int64   \n",
      " 12  IMDDec0     32844 non-null  int64   \n",
      " 13  IncScore    32844 non-null  float64 \n",
      " 14  IncRank     32844 non-null  int64   \n",
      " 15  IncDec      32844 non-null  int64   \n",
      " 16  EmpScore    32844 non-null  float64 \n",
      " 17  EmpRank     32844 non-null  int64   \n",
      " 18  EmpDec      32844 non-null  int64   \n",
      " 19  EduScore    32844 non-null  float64 \n",
      " 20  EduRank     32844 non-null  int64   \n",
      " 21  EduDec      32844 non-null  int64   \n",
      " 22  HDDScore    32844 non-null  float64 \n",
      " 23  HDDRank     32844 non-null  int64   \n",
      " 24  HDDDec      32844 non-null  int64   \n",
      " 25  CriScore    32844 non-null  float64 \n",
      " 26  CriRank     32844 non-null  int64   \n",
      " 27  CriDec      32844 non-null  int64   \n",
      " 28  BHSScore    32844 non-null  float64 \n",
      " 29  BHSRank     32844 non-null  int64   \n",
      " 30  BHSDec      32844 non-null  int64   \n",
      " 31  EnvScore    32844 non-null  float64 \n",
      " 32  EnvRank     32844 non-null  int64   \n",
      " 33  EnvDec      32844 non-null  int64   \n",
      " 34  IDCScore    32844 non-null  float64 \n",
      " 35  IDCRank     32844 non-null  int64   \n",
      " 36  IDCDec      32844 non-null  int64   \n",
      " 37  IDOScore    32844 non-null  float64 \n",
      " 38  IDORank     32844 non-null  int64   \n",
      " 39  IDODec      32844 non-null  int64   \n",
      " 40  CYPScore    32844 non-null  float64 \n",
      " 41  CYPRank     32844 non-null  int64   \n",
      " 42  CYPDec      32844 non-null  int64   \n",
      " 43  ASScore     32844 non-null  float64 \n",
      " 44  ASRank      32844 non-null  int64   \n",
      " 45  ASDec       32844 non-null  int64   \n",
      " 46  GBScore     32844 non-null  float64 \n",
      " 47  GBRank      32844 non-null  int64   \n",
      " 48  GBDec       32844 non-null  int64   \n",
      " 49  WBScore     32844 non-null  float64 \n",
      " 50  WBRank      32844 non-null  int64   \n",
      " 51  WBDec       32844 non-null  int64   \n",
      " 52  IndScore    32844 non-null  float64 \n",
      " 53  IndRank     32844 non-null  int64   \n",
      " 54  IndDec      32844 non-null  int64   \n",
      " 55  OutScore    32844 non-null  float64 \n",
      " 56  OutRank     32844 non-null  int64   \n",
      " 57  OutDec      32844 non-null  int64   \n",
      " 58  TotPop      32844 non-null  int64   \n",
      " 59  DepChi      32844 non-null  int64   \n",
      " 60  Pop16_59    32844 non-null  int64   \n",
      " 61  Pop60+      32844 non-null  int64   \n",
      " 62  WorkPop     32844 non-null  float64 \n",
      " 63  geometry    32844 non-null  geometry\n",
      "dtypes: float64(19), geometry(1), int64(38), object(6)\n",
      "memory usage: 16.0+ MB\n"
     ]
    },
    {
     "data": {
      "text/plain": [
       "<Axes: >"
      ]
     },
     "execution_count": 47,
     "metadata": {},
     "output_type": "execute_result"
    },
    {
     "data": {
      "image/png": "[encoded data removed]",
      "text/plain": [
       "<Figure size 640x480 with 1 Axes>"
      ]
     },
     "metadata": {},
     "output_type": "display_data"
    }
   ],
   "source": [
    "import os\n",
    "print(os.path.exists('data/IMD/IMD/lab04_imd.shp'))\n",
    "#check if path is true\n",
    "\n",
    "imd_shp = 'data/IMD/IMD/lab04_imd.shp'\n",
    "lookup_path = 'data/IMD/IMD/OAs/'\n",
    "imd = gpd.read_file(imd_shp)\n",
    "\n",
    "imd.info()\n",
    "imd.plot()\n"
   ]
  },
  {
   "cell_type": "code",
   "execution_count": 48,
   "metadata": {},
   "outputs": [
    {
     "name": "stderr",
     "output_type": "stream",
     "text": [
      "c:\\Users\\boazg\\AppData\\Local\\Programs\\Python\\Python312\\Lib\\site-packages\\libpysal\\weights\\contiguity.py:347: UserWarning: The weights matrix is not fully connected: \n",
      " There are 8 disconnected components.\n",
      " There is 1 island with id: E01019077.\n",
      "  W.__init__(self, neighbors, ids=ids, **kw)\n"
     ]
    },
    {
     "data": {
      "text/plain": [
       "<libpysal.weights.contiguity.Queen at 0x23f9ed3ddf0>"
      ]
     },
     "execution_count": 48,
     "metadata": {},
     "output_type": "execute_result"
    }
   ],
   "source": [
    "w = weights.Queen.from_dataframe(imd, ids=\"lsoa11cd\")\n",
    "w"
   ]
  },
  {
   "cell_type": "code",
   "execution_count": 49,
   "metadata": {},
   "outputs": [
    {
     "data": {
      "text/plain": [
       "{'E01006691': 1.0,\n",
       " 'E01033763': 1.0,\n",
       " 'E01006692': 1.0,\n",
       " 'E01006695': 1.0,\n",
       " 'E01006720': 1.0,\n",
       " 'E01006759': 1.0,\n",
       " 'E01006697': 1.0}"
      ]
     },
     "execution_count": 49,
     "metadata": {},
     "output_type": "execute_result"
    }
   ],
   "source": [
    "w['E01006690']"
   ]
  },
  {
   "cell_type": "markdown",
   "metadata": {},
   "source": [
    "\n",
    "## Question 2: Calculating Moran’s I\n",
    "\n",
    "Write a function calculate_morans_i that:\n",
    "\n",
    "    Takes a spatial weight matrix W and an attribute array y.\n",
    "    Calculates Moran’s I for the given attribute array.\n",
    "    Returns the Moran’s I value and its p-value.\n"
   ]
  },
  {
   "cell_type": "code",
   "execution_count": 50,
   "metadata": {},
   "outputs": [
    {
     "name": "stdout",
     "output_type": "stream",
     "text": [
      "('WARNING: ', 'E01019077', ' is an island (no neighbors)')\n"
     ]
    }
   ],
   "source": [
    "#Moran's i\n",
    "y = 'IMDScore'\n",
    "\n",
    "#Higher IMD scores indicate greater levels of deprivation (aka poverty), and lower scores indicate less deprivation.\n",
    "\n",
    "calculate_morans_i = esda.Moran(imd[y], w)"
   ]
  },
  {
   "cell_type": "code",
   "execution_count": 51,
   "metadata": {},
   "outputs": [
    {
     "data": {
      "text/plain": [
       "0.6031245807165552"
      ]
     },
     "execution_count": 51,
     "metadata": {},
     "output_type": "execute_result"
    }
   ],
   "source": [
    "calculate_morans_i.I\n",
    "#this value is >1 thus there is positive spatial autocorrelation "
   ]
  },
  {
   "cell_type": "code",
   "execution_count": 52,
   "metadata": {},
   "outputs": [
    {
     "data": {
      "text/plain": [
       "0.001"
      ]
     },
     "execution_count": 52,
     "metadata": {},
     "output_type": "execute_result"
    }
   ],
   "source": [
    "calculate_morans_i.p_sim\n",
    "#very low p-vlaue indicates there is verly little random chance"
   ]
  },
  {
   "cell_type": "markdown",
   "metadata": {},
   "source": [
    "\n",
    "## Question 3: Standardizing Spatial Weight Matrices\n",
    "\n",
    "Create a function standardize_weights that:\n",
    "\n",
    "    Takes a spatial weight matrix W.\n",
    "    Standardizes it so that the weights of each row sum to one.\n",
    "    Returns the standardized weight matrix."
   ]
  },
  {
   "cell_type": "code",
   "execution_count": 19,
   "metadata": {},
   "outputs": [],
   "source": [
    "#Weight sums up to 1"
   ]
  },
  {
   "cell_type": "code",
   "execution_count": 21,
   "metadata": {},
   "outputs": [
    {
     "data": {
      "text/plain": [
       "'R'"
      ]
     },
     "execution_count": 21,
     "metadata": {},
     "output_type": "execute_result"
    }
   ],
   "source": [
    "w.transform\n",
    "#w is transformed as indicated by 'R'"
   ]
  },
  {
   "cell_type": "code",
   "execution_count": 30,
   "metadata": {},
   "outputs": [
    {
     "data": {
      "text/plain": [
       "{'E01006691': 1.0,\n",
       " 'E01033763': 1.0,\n",
       " 'E01006692': 1.0,\n",
       " 'E01006695': 1.0,\n",
       " 'E01006720': 1.0,\n",
       " 'E01006759': 1.0,\n",
       " 'E01006697': 1.0}"
      ]
     },
     "execution_count": 30,
     "metadata": {},
     "output_type": "execute_result"
    }
   ],
   "source": [
    "w['E01006690']"
   ]
  },
  {
   "cell_type": "code",
   "execution_count": 31,
   "metadata": {},
   "outputs": [
    {
     "data": {
      "text/plain": [
       "7.0"
      ]
     },
     "execution_count": 31,
     "metadata": {},
     "output_type": "execute_result"
    }
   ],
   "source": [
    "#check if all values sum to one\n",
    "pd.Series(w['E01006690']).sum()"
   ]
  },
  {
   "cell_type": "code",
   "execution_count": 32,
   "metadata": {},
   "outputs": [
    {
     "data": {
      "text/plain": [
       "{'E01006691': 1.0,\n",
       " 'E01033763': 1.0,\n",
       " 'E01006692': 1.0,\n",
       " 'E01006695': 1.0,\n",
       " 'E01006720': 1.0,\n",
       " 'E01006759': 1.0,\n",
       " 'E01006697': 1.0}"
      ]
     },
     "execution_count": 32,
     "metadata": {},
     "output_type": "execute_result"
    }
   ],
   "source": [
    "#transforming to its original state is possible with:\n",
    "w.transform = 'O'\n",
    "\n",
    "w['E01006690']"
   ]
  },
  {
   "cell_type": "markdown",
   "metadata": {},
   "source": [
    "\n",
    "## Question 4: Creating Distance-Based Weights\n",
    "\n",
    "Write a function create_distance_weights that:\n",
    "\n",
    "    Takes a set of point coordinates and a threshold distance.\n",
    "    Constructs a distance-based spatial weight matrix where all points within the threshold distance are assigned a weight.\n",
    "    Returns the weight matrix."
   ]
  },
  {
   "cell_type": "code",
   "execution_count": 54,
   "metadata": {},
   "outputs": [
    {
     "data": {
      "text/plain": [
       "<Projected CRS: EPSG:27700>\n",
       "Name: OSGB36 / British National Grid\n",
       "Axis Info [cartesian]:\n",
       "- E[east]: Easting (metre)\n",
       "- N[north]: Northing (metre)\n",
       "Area of Use:\n",
       "- name: United Kingdom (UK) - offshore to boundary of UKCS within 49°45'N to 61°N and 9°W to 2°E; onshore Great Britain (England, Wales and Scotland). Isle of Man onshore.\n",
       "- bounds: (-9.01, 49.75, 2.01, 61.01)\n",
       "Coordinate Operation:\n",
       "- name: British National Grid\n",
       "- method: Transverse Mercator\n",
       "Datum: Ordnance Survey of Great Britain 1936\n",
       "- Ellipsoid: Airy 1830\n",
       "- Prime Meridian: Greenwich"
      ]
     },
     "execution_count": 54,
     "metadata": {},
     "output_type": "execute_result"
    }
   ],
   "source": [
    "imd = imd.set_index(\"lsoa11cd\")\n",
    "\n",
    "imd.crs\n",
    "#data is in metres "
   ]
  },
  {
   "cell_type": "code",
   "execution_count": 59,
   "metadata": {},
   "outputs": [
    {
     "name": "stderr",
     "output_type": "stream",
     "text": [
      "c:\\Users\\boazg\\AppData\\Local\\Programs\\Python\\Python312\\Lib\\site-packages\\libpysal\\weights\\util.py:826: UserWarning: The weights matrix is not fully connected: \n",
      " There are 16 disconnected components.\n",
      " There are 8 islands with ids: E01019077, E01019229, E01019305, E01019325, E01027447, E01027479, E01027503, E01027585.\n",
      "  w = W(neighbors, weights, ids, **kwargs)\n",
      "c:\\Users\\boazg\\AppData\\Local\\Programs\\Python\\Python312\\Lib\\site-packages\\libpysal\\weights\\distance.py:844: UserWarning: The weights matrix is not fully connected: \n",
      " There are 16 disconnected components.\n",
      " There are 8 islands with ids: E01019077, E01019229, E01019305, E01019325, E01027447, E01027479, E01027503, E01027585.\n",
      "  W.__init__(\n"
     ]
    }
   ],
   "source": [
    "w_dist10kmB = weights.DistanceBand.from_dataframe(imd, 10000, binary=False)\n",
    "#with 'binary = false' you get values adjusted to the distance from the observation of interest"
   ]
  },
  {
   "cell_type": "code",
   "execution_count": 60,
   "metadata": {},
   "outputs": [
    {
     "data": {
      "text/plain": [
       "{'E01006412': 0.0001664461364486456,\n",
       " 'E01006413': 0.00016316788230951544,\n",
       " 'E01006414': 0.0001732452640606962,\n",
       " 'E01006415': 0.00012941412358354748,\n",
       " 'E01006416': 0.00011797388461136008,\n",
       " 'E01006417': 0.00012582153259262555,\n",
       " 'E01006418': 0.00013127129805126932,\n",
       " 'E01006419': 0.0001245449729609161,\n",
       " 'E01006420': 0.00010194260606550699,\n",
       " 'E01006421': 0.00013091159399963707,\n",
       " 'E01006422': 0.00011466898466139244,\n",
       " 'E01006423': 0.0001206469722419842,\n",
       " 'E01006424': 0.00011876530224518804,\n",
       " 'E01006425': 0.00013315458461018493,\n",
       " 'E01006426': 0.00011261243032402919,\n",
       " 'E01006427': 0.00011760172285629583,\n",
       " 'E01006428': 0.00010176329459661787,\n",
       " 'E01006429': 0.00010717055048462446,\n",
       " 'E01006430': 0.00013106780510999165,\n",
       " 'E01006431': 0.00012368616154027044,\n",
       " 'E01006432': 0.00011426263315131452,\n",
       " 'E01006433': 0.0001383950266734748,\n",
       " 'E01006434': 0.00011563145774183125,\n",
       " 'E01006435': 0.0001200696561671895,\n",
       " 'E01006436': 0.00011196665029131524,\n",
       " 'E01006437': 0.00011163133851007829,\n",
       " 'E01006438': 0.00012197692998717452,\n",
       " 'E01006439': 0.00012154540316374129,\n",
       " 'E01006440': 0.00011748098122849766,\n",
       " 'E01006441': 0.00016307653970566718,\n",
       " 'E01006442': 0.0001589316126744936,\n",
       " 'E01006443': 0.0001567219631166999,\n",
       " 'E01006444': 0.0001502706286909962,\n",
       " 'E01006445': 0.0001428036586632496,\n",
       " 'E01006446': 0.00010083175262967994,\n",
       " 'E01006447': 0.00010355040006280647,\n",
       " 'E01006449': 0.00018811148021691143,\n",
       " 'E01006450': 0.00019208658304660433,\n",
       " 'E01006451': 0.00017326601845083506,\n",
       " 'E01006452': 0.00016653008285989952,\n",
       " 'E01006453': 0.00018296675315608783,\n",
       " 'E01006454': 0.0001051245688975687,\n",
       " 'E01006455': 0.00011504592983183542,\n",
       " 'E01006456': 0.00011205373315957334,\n",
       " 'E01006457': 0.00010682614786103145,\n",
       " 'E01006458': 0.00010184356031897083,\n",
       " 'E01006459': 0.00010203877229062189,\n",
       " 'E01006460': 0.00010641673686436868,\n",
       " 'E01006461': 0.00011326513629766525,\n",
       " 'E01006463': 0.0001070541439397878,\n",
       " 'E01006464': 0.0001155691103270683,\n",
       " 'E01006465': 0.00012809234315829736,\n",
       " 'E01006466': 0.00010354632391065492,\n",
       " 'E01006467': 0.00018358566748538792,\n",
       " 'E01006470': 0.00017084082437054918,\n",
       " 'E01006471': 0.00016202606664362178,\n",
       " 'E01006472': 0.00023099638569589826,\n",
       " 'E01006473': 0.00019302592513915427,\n",
       " 'E01006474': 0.00016438786198121804,\n",
       " 'E01006475': 0.00015563554697537628,\n",
       " 'E01006476': 0.00016886346911341044,\n",
       " 'E01006477': 0.00012609928056173217,\n",
       " 'E01006478': 0.00013261685479997105,\n",
       " 'E01006479': 0.00014532592033871284,\n",
       " 'E01006480': 0.0001361409845245186,\n",
       " 'E01006481': 0.00013951643287230404,\n",
       " 'E01006482': 0.00014184208012711178,\n",
       " 'E01006483': 0.00012825830976651275,\n",
       " 'E01006484': 0.00014675428563905895,\n",
       " 'E01006485': 0.000261008184763888,\n",
       " 'E01006486': 0.00021690238215108917,\n",
       " 'E01006487': 0.0002397762539932342,\n",
       " 'E01006488': 0.000288073892373364,\n",
       " 'E01006489': 0.00020368437908239935,\n",
       " 'E01006495': 0.00010113384123085542,\n",
       " 'E01006497': 0.00011312446174142085,\n",
       " 'E01006500': 0.00010486539825518273,\n",
       " 'E01006501': 0.00010302753691258655,\n",
       " 'E01006502': 0.00010870213629901975,\n",
       " 'E01006505': 0.00010974503298969499,\n",
       " 'E01006506': 0.00014574903776959903,\n",
       " 'E01006507': 0.00011423014063131173,\n",
       " 'E01006508': 0.0001287611311429518,\n",
       " 'E01006509': 0.0001245959325670699,\n",
       " 'E01006510': 0.00014303374703882835,\n",
       " 'E01006512': 0.0005792649447602218,\n",
       " 'E01006513': 0.0004546130222576824,\n",
       " 'E01006514': 0.0004165362705044099,\n",
       " 'E01006515': 0.00034570614089179746,\n",
       " 'E01006518': 0.0003533267623012079,\n",
       " 'E01006519': 0.00021687676214332104,\n",
       " 'E01006520': 0.00035696845637404005,\n",
       " 'E01006521': 0.00028603137988656005,\n",
       " 'E01006522': 0.00037544909832598557,\n",
       " 'E01006523': 0.0003099974602053172,\n",
       " 'E01006524': 0.00029563543293368075,\n",
       " 'E01006525': 0.0002550487940597182,\n",
       " 'E01006526': 0.00032114520850193116,\n",
       " 'E01006527': 0.00023775330754409864,\n",
       " 'E01006528': 0.00022567208540700097,\n",
       " 'E01006529': 0.00024924369383179314,\n",
       " 'E01006530': 0.00014491342938616775,\n",
       " 'E01006531': 0.00013979366111042783,\n",
       " 'E01006532': 0.00020422513998353533,\n",
       " 'E01006533': 0.00015210937283043646,\n",
       " 'E01006534': 0.00018589976488837503,\n",
       " 'E01006535': 0.0001657330901841724,\n",
       " 'E01006536': 0.00015537996679241908,\n",
       " 'E01006537': 0.00013391908219670886,\n",
       " 'E01006538': 0.00012592962445770892,\n",
       " 'E01006539': 0.0002466701944669941,\n",
       " 'E01006540': 0.0005642532769244645,\n",
       " 'E01006541': 0.00028649824767154527,\n",
       " 'E01006542': 0.00030858028500390755,\n",
       " 'E01006543': 0.0003150942191137178,\n",
       " 'E01006544': 0.0003562645266810826,\n",
       " 'E01006545': 0.0003658733424513337,\n",
       " 'E01006546': 0.0003838475441904834,\n",
       " 'E01006547': 0.0004278875852107335,\n",
       " 'E01006548': 0.00048662171904760674,\n",
       " 'E01006549': 0.0005078100714622612,\n",
       " 'E01006550': 0.0004696316802137586,\n",
       " 'E01006551': 0.00040523929261693616,\n",
       " 'E01006552': 0.0005516483316550877,\n",
       " 'E01006553': 0.000410795703397883,\n",
       " 'E01006554': 0.0005215900219665365,\n",
       " 'E01006556': 0.0006977701797885409,\n",
       " 'E01006557': 0.000584972480193694,\n",
       " 'E01006558': 0.0003092094154693604,\n",
       " 'E01006560': 0.00032504612254480227,\n",
       " 'E01006562': 0.000419282177049869,\n",
       " 'E01006563': 0.000492058925825248,\n",
       " 'E01006564': 0.00042304700129507507,\n",
       " 'E01006565': 0.00041344976859121284,\n",
       " 'E01006566': 0.0004889410357063728,\n",
       " 'E01006567': 0.0003477223192268274,\n",
       " 'E01006568': 0.00024589297140892243,\n",
       " 'E01006569': 0.0003793542366335793,\n",
       " 'E01006570': 0.0002975476354827504,\n",
       " 'E01006571': 0.0002661406271960341,\n",
       " 'E01006572': 0.0002336073661372956,\n",
       " 'E01006573': 0.0005132750855571788,\n",
       " 'E01006574': 0.00022217743039888553,\n",
       " 'E01006575': 0.00042746603175192036,\n",
       " 'E01006576': 0.0003342481816250606,\n",
       " 'E01006577': 0.00039916526696615637,\n",
       " 'E01006578': 0.0002868926297042105,\n",
       " 'E01006579': 0.0003251502199229543,\n",
       " 'E01006580': 0.0002575033071106224,\n",
       " 'E01006581': 0.00029195783777804406,\n",
       " 'E01006582': 0.0003305483237720959,\n",
       " 'E01006583': 0.00024789053017729146,\n",
       " 'E01006584': 0.0003345697972492713,\n",
       " 'E01006585': 0.0005296438378568986,\n",
       " 'E01006586': 0.0005148112159782863,\n",
       " 'E01006587': 0.0006479772835907376,\n",
       " 'E01006588': 0.0005031174578755691,\n",
       " 'E01006589': 0.00042060715772952235,\n",
       " 'E01006590': 0.0004443922867410003,\n",
       " 'E01006591': 0.00036474692692626274,\n",
       " 'E01006592': 0.0003210538301096407,\n",
       " 'E01006593': 0.0003731268546432132,\n",
       " 'E01006594': 0.0002583731158616486,\n",
       " 'E01006595': 0.00030918182099998925,\n",
       " 'E01006596': 0.0003157754602253255,\n",
       " 'E01006597': 0.0002781627053705622,\n",
       " 'E01006598': 0.00022569135538524478,\n",
       " 'E01006599': 0.00023358089254400477,\n",
       " 'E01006600': 0.0002859512230091569,\n",
       " 'E01006603': 0.0002869498165910524,\n",
       " 'E01006604': 0.00029727030639072364,\n",
       " 'E01006605': 0.00034519375391700634,\n",
       " 'E01006606': 0.00034846766198960884,\n",
       " 'E01006607': 0.0002457243746536748,\n",
       " 'E01006608': 0.0002164764569495158,\n",
       " 'E01006609': 0.0002373487442153275,\n",
       " 'E01006610': 0.00022321518752690207,\n",
       " 'E01006611': 0.00023971230856575747,\n",
       " 'E01006612': 0.00024901982615260586,\n",
       " 'E01006613': 0.00023262314101639997,\n",
       " 'E01006614': 0.00023885436316644355,\n",
       " 'E01006615': 0.00025380490891841693,\n",
       " 'E01006616': 0.0002876241760453601,\n",
       " 'E01006617': 0.00033831893428750494,\n",
       " 'E01006618': 0.000371215394554959,\n",
       " 'E01006619': 0.0003003582195245404,\n",
       " 'E01006620': 0.00030544399082411364,\n",
       " 'E01006621': 0.00037190460102216617,\n",
       " 'E01006622': 0.0002936507576399367,\n",
       " 'E01006623': 0.00022880208870890113,\n",
       " 'E01006624': 0.0002089477296527056,\n",
       " 'E01006625': 0.000264870823667775,\n",
       " 'E01006626': 0.00030426954933210614,\n",
       " 'E01006627': 0.00023027754430610296,\n",
       " 'E01006628': 0.0002513546426037653,\n",
       " 'E01006629': 0.0002707052106961409,\n",
       " 'E01006630': 0.00029663546747001616,\n",
       " 'E01006632': 0.00030730812583763285,\n",
       " 'E01006633': 0.00028891985423840744,\n",
       " 'E01006637': 0.00019828499432074582,\n",
       " 'E01006638': 0.00021265014573604833,\n",
       " 'E01006639': 0.00022386585654872725,\n",
       " 'E01006640': 0.00025374346443397296,\n",
       " 'E01006641': 0.00021154108189436215,\n",
       " 'E01006642': 0.00023216206975129356,\n",
       " 'E01006643': 0.0002128305800711733,\n",
       " 'E01006644': 0.0002057243438855415,\n",
       " 'E01006645': 0.00019525438605556898,\n",
       " 'E01006646': 0.0004037839278654352,\n",
       " 'E01006647': 0.000576248973299268,\n",
       " 'E01006648': 0.000369825470076355,\n",
       " 'E01006651': 0.00014036069418847422,\n",
       " 'E01006652': 0.00015035851849257997,\n",
       " 'E01006653': 0.00014150076396383953,\n",
       " 'E01006654': 0.00015693051150444926,\n",
       " 'E01006655': 0.00014646395677808324,\n",
       " 'E01006656': 0.00014289919582417812,\n",
       " 'E01006657': 0.00015433983397572076,\n",
       " 'E01006658': 0.00014960488545283346,\n",
       " 'E01006659': 0.00017443982209523556,\n",
       " 'E01006660': 0.00016646348561579708,\n",
       " 'E01006661': 0.000153329586344207,\n",
       " 'E01006662': 0.0001789396066649014,\n",
       " 'E01006663': 0.0001526668528081004,\n",
       " 'E01006664': 0.00019179841782663036,\n",
       " 'E01006665': 0.00015955602788888355,\n",
       " 'E01006666': 0.00015575311857272215,\n",
       " 'E01006667': 0.00017861310993988702,\n",
       " 'E01006668': 0.00015557829861317837,\n",
       " 'E01006669': 0.00020157462265058945,\n",
       " 'E01006670': 0.00017450822581733315,\n",
       " 'E01006671': 0.00017555589780277893,\n",
       " 'E01006672': 0.00021332733071006065,\n",
       " 'E01006673': 0.00042734782702399514,\n",
       " 'E01006674': 0.00053267446081842,\n",
       " 'E01006675': 0.00040804834466173507,\n",
       " 'E01006676': 0.00037008468490485637,\n",
       " 'E01006677': 0.0004005261099590423,\n",
       " 'E01006678': 0.0003412040461760161,\n",
       " 'E01006679': 0.0005582800056814036,\n",
       " 'E01006680': 0.0002254512210458436,\n",
       " 'E01006681': 0.00020096509848018464,\n",
       " 'E01006682': 0.00022003477932459856,\n",
       " 'E01006683': 0.0002022853709476239,\n",
       " 'E01006684': 0.00019564328830668613,\n",
       " 'E01006685': 0.00019196053986514345,\n",
       " 'E01006686': 0.00018548316847649609,\n",
       " 'E01006687': 0.0001663086617183147,\n",
       " 'E01006688': 0.00017638066227397905,\n",
       " 'E01006689': 0.00026042774889699523,\n",
       " 'E01006691': 0.0013256933794006658,\n",
       " 'E01006692': 0.0016882958052879748,\n",
       " 'E01006693': 0.000665628487011076,\n",
       " 'E01006694': 0.0008808144409762933,\n",
       " 'E01006695': 0.0011204624346602458,\n",
       " 'E01006696': 0.000977889709586805,\n",
       " 'E01006697': 0.001402472386182104,\n",
       " 'E01006698': 0.00021778565994497753,\n",
       " 'E01006699': 0.00022423495563842017,\n",
       " 'E01006700': 0.00024280261343023003,\n",
       " 'E01006701': 0.00024979207152367233,\n",
       " 'E01006702': 0.00023896867789226632,\n",
       " 'E01006703': 0.0002746651800431766,\n",
       " 'E01006705': 0.00020999698292592766,\n",
       " 'E01006706': 0.00014496011158641426,\n",
       " 'E01006707': 0.00013690272580784763,\n",
       " 'E01006708': 0.00015370723594126118,\n",
       " 'E01006709': 0.00016342447596650377,\n",
       " 'E01006710': 0.000126450897996345,\n",
       " 'E01006711': 0.0007684430784930556,\n",
       " 'E01006712': 0.0004980480461610085,\n",
       " 'E01006713': 0.0004832872701420836,\n",
       " 'E01006716': 0.0007276578226551744,\n",
       " 'E01006717': 0.0004948737801584087,\n",
       " 'E01006718': 0.0005498937313250946,\n",
       " 'E01006719': 0.00045124826212385237,\n",
       " 'E01006720': 0.0013393372744865168,\n",
       " 'E01006721': 0.0007312109721675909,\n",
       " 'E01006722': 0.0008004934931935448,\n",
       " 'E01006723': 0.0006967578614963194,\n",
       " 'E01006724': 0.0005744180625745749,\n",
       " 'E01006725': 0.0010103380475945504,\n",
       " 'E01006726': 0.001056402257271986,\n",
       " 'E01006727': 0.0007919286594381286,\n",
       " 'E01006728': 0.0009552588320686824,\n",
       " 'E01006729': 0.0002306163306497665,\n",
       " 'E01006730': 0.00023682315939282779,\n",
       " 'E01006731': 0.00022658118114780537,\n",
       " 'E01006732': 0.00025143060902088296,\n",
       " 'E01006734': 0.00020728233124122375,\n",
       " 'E01006735': 0.00020066319423347207,\n",
       " 'E01006736': 0.00020145617891974404,\n",
       " 'E01006737': 0.00021525469112776286,\n",
       " 'E01006738': 0.00013444679160295534,\n",
       " 'E01006739': 0.00010809562099284676,\n",
       " 'E01006740': 0.00014165964268433734,\n",
       " 'E01006741': 0.00010687463616519304,\n",
       " 'E01006742': 0.00016868477878417853,\n",
       " 'E01006743': 0.00013389560242965882,\n",
       " 'E01006744': 0.0001642169846912918,\n",
       " 'E01006745': 0.00015616914041123516,\n",
       " 'E01006746': 0.0007219857166723584,\n",
       " 'E01006747': 0.0005560758677950839,\n",
       " 'E01006748': 0.0007753795329203924,\n",
       " 'E01006751': 0.0007947647235253699,\n",
       " 'E01006752': 0.0008757119157798704,\n",
       " 'E01006753': 0.00010343344520385943,\n",
       " 'E01006755': 0.00010172828086006295,\n",
       " 'E01006758': 0.00010755828569875529,\n",
       " 'E01006759': 0.0009035661806873367,\n",
       " 'E01006760': 0.0006316279800891566,\n",
       " 'E01006761': 0.0005607603407584546,\n",
       " 'E01006762': 0.0003853040644487279,\n",
       " 'E01006763': 0.0004102124256867031,\n",
       " 'E01006764': 0.0005140422421196173,\n",
       " 'E01006765': 0.0004385528485099214,\n",
       " 'E01006766': 0.0004205950373277834,\n",
       " 'E01006767': 0.0004731145667744287,\n",
       " 'E01006768': 0.00045435583851381246,\n",
       " 'E01006769': 0.00022149860098893357,\n",
       " 'E01006770': 0.0001950002485041608,\n",
       " 'E01006771': 0.00016985313638790062,\n",
       " 'E01006772': 0.0001810528877258505,\n",
       " 'E01006773': 0.00027341133494512187,\n",
       " 'E01006774': 0.00024992628349714333,\n",
       " 'E01006775': 0.00019304026549529026,\n",
       " 'E01006776': 0.00022040000309546162,\n",
       " 'E01006778': 0.00022485516690112613,\n",
       " 'E01006779': 0.0002716527202871996,\n",
       " 'E01006780': 0.00014617384866070983,\n",
       " 'E01006781': 0.00014887327208336275,\n",
       " 'E01006782': 0.00015589702175772084,\n",
       " 'E01006783': 0.0001572398103864724,\n",
       " 'E01006784': 0.00015903100335952196,\n",
       " 'E01006785': 0.00017129138505020216,\n",
       " 'E01006786': 0.00016286511997371883,\n",
       " 'E01006787': 0.0001789762244086699,\n",
       " 'E01006788': 0.00018825144864935512,\n",
       " 'E01006790': 0.00019657338296692875,\n",
       " 'E01006791': 0.000197319947592195,\n",
       " 'E01006792': 0.00019849559632435714,\n",
       " 'E01006793': 0.00016633548140268363,\n",
       " 'E01006794': 0.00017556571687144884,\n",
       " 'E01006795': 0.0001706168137768375,\n",
       " 'E01006796': 0.00021701271459362114,\n",
       " 'E01006797': 0.00015153732450502372,\n",
       " 'E01006798': 0.00015944054801333301,\n",
       " 'E01006799': 0.00017952132827036996,\n",
       " 'E01006800': 0.0002147371826341122,\n",
       " 'E01006801': 0.00018934285768863464,\n",
       " 'E01006952': 0.00012120182347296844,\n",
       " 'E01006953': 0.0001185873127423921,\n",
       " 'E01006954': 0.00010129741659920407,\n",
       " 'E01006955': 0.00010498241784262966,\n",
       " 'E01006956': 0.0001048416614720956,\n",
       " 'E01006957': 0.00011152499616535542,\n",
       " 'E01006958': 0.00010272703023374287,\n",
       " 'E01006959': 0.00011058381649549914,\n",
       " 'E01006960': 0.00018151088021863888,\n",
       " 'E01006961': 0.00019618634811311385,\n",
       " 'E01006962': 0.00019740238923455478,\n",
       " 'E01006963': 0.00020375403006359677,\n",
       " 'E01006964': 0.0001583358746359296,\n",
       " 'E01006965': 0.00016948403666877218,\n",
       " 'E01006966': 0.00016701811672142734,\n",
       " 'E01006967': 0.00017751803725692445,\n",
       " 'E01006976': 0.00012332273541932603,\n",
       " 'E01006977': 0.00011415887554540533,\n",
       " 'E01006978': 0.00011808725110185052,\n",
       " 'E01006979': 0.00010238221009888604,\n",
       " 'E01006980': 0.00010864642024299655,\n",
       " 'E01006981': 0.00011788976295029647,\n",
       " 'E01006982': 0.00011323587735568976,\n",
       " 'E01006983': 0.0001117002694800346,\n",
       " 'E01006984': 0.00011882249506426954,\n",
       " 'E01007003': 0.00013830529538780213,\n",
       " 'E01007004': 0.00012891520250604547,\n",
       " 'E01007005': 0.00012635017435197113,\n",
       " 'E01007006': 0.0001489738446968842,\n",
       " 'E01007007': 0.00016016470861880854,\n",
       " 'E01007008': 0.0001459902626700061,\n",
       " 'E01007009': 0.00015825536802336834,\n",
       " 'E01007010': 0.00018631636524773568,\n",
       " 'E01007011': 0.0001292056779895604,\n",
       " 'E01007012': 0.0001456100929878053,\n",
       " 'E01007013': 0.0001419129037469522,\n",
       " 'E01007014': 0.00012731489107223868,\n",
       " 'E01007016': 0.00012995533667474295,\n",
       " 'E01007017': 0.00013708909825083692,\n",
       " 'E01007019': 0.000153898854202643,\n",
       " 'E01007039': 0.00011221486402273231,\n",
       " 'E01007041': 0.000126270578389899,\n",
       " 'E01007042': 0.00011205811743678941,\n",
       " 'E01007043': 0.00011963589327068022,\n",
       " 'E01007044': 0.00012300039968940897,\n",
       " 'E01007045': 0.00012963890268073055,\n",
       " 'E01007046': 0.0001236184733217588,\n",
       " 'E01007047': 0.00013302314583362885,\n",
       " 'E01007048': 0.00012934116014796503,\n",
       " 'E01007049': 0.00014254964136340266,\n",
       " 'E01007050': 0.00013930036010015867,\n",
       " 'E01007051': 0.0001491434059089744,\n",
       " 'E01007052': 0.00015958617035076263,\n",
       " 'E01007053': 0.00011398770625713553,\n",
       " 'E01007054': 0.00011747433524387953,\n",
       " 'E01007083': 0.00010462338482882124,\n",
       " 'E01007084': 0.00010575873093098292,\n",
       " 'E01007085': 0.0001056045077339869,\n",
       " 'E01007086': 0.00010542092151800541,\n",
       " 'E01007087': 0.00011056659829278138,\n",
       " 'E01007088': 0.00011266352869453875,\n",
       " 'E01007089': 0.00010753982025812744,\n",
       " 'E01007090': 0.0001103441458889239,\n",
       " 'E01007091': 0.0001005026534552234,\n",
       " 'E01007092': 0.00010157090455743817,\n",
       " 'E01007102': 0.00010026878470801357,\n",
       " 'E01007107': 0.00010094480750017156,\n",
       " 'E01007108': 0.00010264439380597221,\n",
       " 'E01007110': 0.00010533664333838457,\n",
       " 'E01007111': 0.00013385997902149962,\n",
       " 'E01007112': 0.00014090131419343388,\n",
       " 'E01007113': 0.0001223817120424055,\n",
       " 'E01007114': 0.00013397337957922042,\n",
       " 'E01007115': 0.00013534155217993923,\n",
       " 'E01007116': 0.0001263235313114908,\n",
       " 'E01007117': 0.00012428041626030812,\n",
       " 'E01007118': 0.00011636426051277181,\n",
       " 'E01007119': 0.00010232488407917001,\n",
       " 'E01007120': 0.00010865341474363484,\n",
       " 'E01007121': 0.00011846873148391667,\n",
       " 'E01007122': 0.00012763812998162075,\n",
       " 'E01007123': 0.0001191797229838436,\n",
       " 'E01007124': 0.00010431037907270425,\n",
       " 'E01007125': 0.00012700600285763908,\n",
       " 'E01007126': 0.00018358798618382094,\n",
       " 'E01007127': 0.0001552330081386876,\n",
       " 'E01007128': 0.0001615241674691638,\n",
       " 'E01007129': 0.00014696597700068748,\n",
       " 'E01007130': 0.00015405206248593579,\n",
       " 'E01007131': 0.00015158445888154723,\n",
       " 'E01007133': 0.00016193037636018945,\n",
       " 'E01007135': 0.00011799784313822092,\n",
       " 'E01007136': 0.00010662745165132537,\n",
       " 'E01007137': 0.00011136042219368663,\n",
       " 'E01007138': 0.00016177586246797038,\n",
       " 'E01007139': 0.00015507233109853603,\n",
       " 'E01007140': 0.00015296606120830726,\n",
       " 'E01007141': 0.0001444961637303378,\n",
       " 'E01007142': 0.0001277320576548984,\n",
       " 'E01007143': 0.00013535817852187437,\n",
       " 'E01007145': 0.0001170858016666825,\n",
       " 'E01007146': 0.0001122927232669819,\n",
       " 'E01007147': 0.00010930451975685368,\n",
       " 'E01007151': 0.00012095917001110885,\n",
       " 'E01007152': 0.00012836676321528512,\n",
       " 'E01007153': 0.00012259382195389828,\n",
       " 'E01007154': 0.00011686782302456303,\n",
       " 'E01007155': 0.00014307977201035357,\n",
       " 'E01007156': 0.00013282030946364952,\n",
       " 'E01007157': 0.00011797618805921905,\n",
       " 'E01007158': 0.00012277690889538658,\n",
       " 'E01007159': 0.00011097193999063437,\n",
       " 'E01007160': 0.00013094549410421388,\n",
       " 'E01007161': 0.00010472857844741644,\n",
       " 'E01007162': 0.00010548582870980148,\n",
       " 'E01007163': 0.00010773655585299853,\n",
       " 'E01007164': 0.0001022998629015217,\n",
       " 'E01007170': 0.00010539297122192047,\n",
       " 'E01007171': 0.00010056669254303109,\n",
       " 'E01007173': 0.0001394441471329137,\n",
       " 'E01007174': 0.00014377396510772394,\n",
       " 'E01007175': 0.00014901038550880273,\n",
       " 'E01007176': 0.00015327017092776934,\n",
       " 'E01007177': 0.00013283718065337175,\n",
       " 'E01007178': 0.00014441928082076642,\n",
       " 'E01007179': 0.00014691073334330095,\n",
       " 'E01007180': 0.00014295058679934575,\n",
       " 'E01007181': 0.00013408374745051875,\n",
       " 'E01007210': 0.00010051104880119384,\n",
       " 'E01007211': 0.00012343116612413525,\n",
       " 'E01007212': 0.00013393850655647743,\n",
       " 'E01007213': 0.00012925376882138732,\n",
       " 'E01007214': 0.00013979925576325394,\n",
       " 'E01007215': 0.00016043111747222224,\n",
       " 'E01007216': 0.00014551176135697358,\n",
       " 'E01007217': 0.00013758919569675912,\n",
       " 'E01007218': 0.000151771659512562,\n",
       " 'E01007219': 0.00015325358339220618,\n",
       " 'E01007220': 0.0001609096747428464,\n",
       " 'E01007229': 0.0001317975176447261,\n",
       " 'E01007230': 0.0001358590534603176,\n",
       " 'E01007231': 0.00012826663384339157,\n",
       " 'E01007232': 0.00014796816433296838,\n",
       " 'E01007233': 0.00013667837407974705,\n",
       " 'E01007234': 0.0001440367327117301,\n",
       " 'E01007235': 0.0001330376668858468,\n",
       " 'E01007236': 0.00014198429394212842,\n",
       " 'E01007237': 0.000121279200323757,\n",
       " 'E01007238': 0.00013185858875934344,\n",
       " 'E01007239': 0.0001409164746495143,\n",
       " 'E01007240': 0.0001256202947883573,\n",
       " 'E01007241': 0.00011766740814353073,\n",
       " 'E01007242': 0.0001266240997117247,\n",
       " 'E01007243': 0.00013106680749672722,\n",
       " 'E01007244': 0.0001399132764642653,\n",
       " 'E01007245': 0.00011713774996898419,\n",
       " 'E01007246': 0.00011277069038320684,\n",
       " 'E01007247': 0.00010682436450980215,\n",
       " 'E01007248': 0.0001250899492470222,\n",
       " 'E01007250': 0.00011438509027939934,\n",
       " 'E01007252': 0.00010473822840294318,\n",
       " 'E01007253': 0.00011021014115635366,\n",
       " 'E01007254': 0.00011904912978570927,\n",
       " 'E01007269': 0.00015623942009630515,\n",
       " 'E01007270': 0.00014052732423207298,\n",
       " 'E01007271': 0.00015176370893662427,\n",
       " 'E01007272': 0.0001661808509799776,\n",
       " 'E01007273': 0.00017683303501549408,\n",
       " 'E01007274': 0.00018827420732250058,\n",
       " 'E01007275': 0.00015780800907001682,\n",
       " 'E01007276': 0.0001467268671374296,\n",
       " 'E01007277': 0.00017438195425396064,\n",
       " 'E01007278': 0.00017357024505623638,\n",
       " 'E01007289': 0.00015895952286986253,\n",
       " 'E01007290': 0.0001727133313544346,\n",
       " 'E01007291': 0.0001777196814980567,\n",
       " 'E01007292': 0.00015797065138229118,\n",
       " 'E01007293': 0.00017217227824655617,\n",
       " 'E01007294': 0.00015246900891285756,\n",
       " 'E01007295': 0.00016403659863689158,\n",
       " 'E01007296': 0.00015602659364706093,\n",
       " 'E01007304': 0.00010046696113869077,\n",
       " 'E01007307': 0.00011723674026909579,\n",
       " 'E01007308': 0.00011011988720581712,\n",
       " 'E01007309': 0.0001070366819381174,\n",
       " 'E01007310': 0.0001239672264935875,\n",
       " 'E01007311': 0.00012171811419782706,\n",
       " 'E01007312': 0.0001194558638661032,\n",
       " 'E01007313': 0.00011577672969676087,\n",
       " 'E01007314': 0.0001297946982168234,\n",
       " 'E01007315': 0.0001114455824189358,\n",
       " 'E01007316': 0.00012712926832630556,\n",
       " 'E01032505': 0.00025989765745924496,\n",
       " 'E01032506': 0.00029948138665057775,\n",
       " 'E01032507': 0.0002909785110835313,\n",
       " 'E01032508': 0.0006491996351417209,\n",
       " 'E01032509': 0.0009581679546253436,\n",
       " 'E01032510': 0.00020925328502297244,\n",
       " 'E01032511': 0.00019370180415185094,\n",
       " 'E01032903': 0.0001395049519613763,\n",
       " 'E01033095': 0.0001333485966020442,\n",
       " 'E01033228': 0.00017981476497865077,\n",
       " 'E01033747': 0.00035767906566133505,\n",
       " 'E01033748': 0.0002628123939789154,\n",
       " 'E01033749': 0.00035139525306963334,\n",
       " 'E01033750': 0.0002800863879694074,\n",
       " 'E01033751': 0.00026776038103932983,\n",
       " 'E01033752': 0.0002744039973876276,\n",
       " 'E01033753': 0.0002577537983580064,\n",
       " 'E01033754': 0.0003151566450139433,\n",
       " 'E01033755': 0.00028742801842686366,\n",
       " 'E01033756': 0.00030747241695727186,\n",
       " 'E01033757': 0.000507876031997474,\n",
       " 'E01033758': 0.0004484037474535924,\n",
       " 'E01033759': 0.0002549503498663573,\n",
       " 'E01033760': 0.00035328954908488104,\n",
       " 'E01033761': 0.0003546017067704485,\n",
       " 'E01033762': 0.00031663979140271416,\n",
       " 'E01033763': 0.0012954566504819575,\n",
       " 'E01033764': 0.0003014422602682063,\n",
       " 'E01033765': 0.0002999687532415404,\n",
       " 'E01033766': 0.00039290461616547435,\n",
       " 'E01033767': 0.00027837981284647756,\n",
       " 'E01033768': 0.0004745328764874421}"
      ]
     },
     "execution_count": 60,
     "metadata": {},
     "output_type": "execute_result"
    }
   ],
   "source": [
    "w_dist10kmB['E01006690']"
   ]
  },
  {
   "cell_type": "markdown",
   "metadata": {},
   "source": [
    "\n",
    "## Question 5: Visualizing a Moran Plot\n",
    "\n",
    "Using PySAL, write a function plot_moran that:\n",
    "\n",
    "    Takes a spatial weights matrix W and an attribute array y.\n",
    "    Creates and displays a Moran plot for the attribute.\n",
    "    Saves the Moran plot as an image file."
   ]
  },
  {
   "cell_type": "code",
   "execution_count": 61,
   "metadata": {},
   "outputs": [
    {
     "ename": "KeyError",
     "evalue": "'w'",
     "output_type": "error",
     "traceback": [
      "\u001b[1;31m---------------------------------------------------------------------------\u001b[0m",
      "\u001b[1;31mKeyError\u001b[0m                                  Traceback (most recent call last)",
      "File \u001b[1;32mc:\\Users\\boazg\\AppData\\Local\\Programs\\Python\\Python312\\Lib\\site-packages\\pandas\\core\\indexes\\base.py:3805\u001b[0m, in \u001b[0;36mIndex.get_loc\u001b[1;34m(self, key)\u001b[0m\n\u001b[0;32m   3804\u001b[0m \u001b[38;5;28;01mtry\u001b[39;00m:\n\u001b[1;32m-> 3805\u001b[0m     \u001b[38;5;28;01mreturn\u001b[39;00m \u001b[38;5;28;43mself\u001b[39;49m\u001b[38;5;241;43m.\u001b[39;49m\u001b[43m_engine\u001b[49m\u001b[38;5;241;43m.\u001b[39;49m\u001b[43mget_loc\u001b[49m\u001b[43m(\u001b[49m\u001b[43mcasted_key\u001b[49m\u001b[43m)\u001b[49m\n\u001b[0;32m   3806\u001b[0m \u001b[38;5;28;01mexcept\u001b[39;00m \u001b[38;5;167;01mKeyError\u001b[39;00m \u001b[38;5;28;01mas\u001b[39;00m err:\n",
      "File \u001b[1;32mindex.pyx:167\u001b[0m, in \u001b[0;36mpandas._libs.index.IndexEngine.get_loc\u001b[1;34m()\u001b[0m\n",
      "File \u001b[1;32mindex.pyx:196\u001b[0m, in \u001b[0;36mpandas._libs.index.IndexEngine.get_loc\u001b[1;34m()\u001b[0m\n",
      "File \u001b[1;32mpandas\\\\_libs\\\\hashtable_class_helper.pxi:7081\u001b[0m, in \u001b[0;36mpandas._libs.hashtable.PyObjectHashTable.get_item\u001b[1;34m()\u001b[0m\n",
      "File \u001b[1;32mpandas\\\\_libs\\\\hashtable_class_helper.pxi:7089\u001b[0m, in \u001b[0;36mpandas._libs.hashtable.PyObjectHashTable.get_item\u001b[1;34m()\u001b[0m\n",
      "\u001b[1;31mKeyError\u001b[0m: 'w'",
      "\nThe above exception was the direct cause of the following exception:\n",
      "\u001b[1;31mKeyError\u001b[0m                                  Traceback (most recent call last)",
      "Cell \u001b[1;32mIn[61], line 3\u001b[0m\n\u001b[0;32m      1\u001b[0m f, ax \u001b[38;5;241m=\u001b[39m plt\u001b[38;5;241m.\u001b[39msubplots(\u001b[38;5;241m1\u001b[39m, figsize\u001b[38;5;241m=\u001b[39m(\u001b[38;5;241m9\u001b[39m, \u001b[38;5;241m9\u001b[39m))\n\u001b[0;32m      2\u001b[0m \u001b[38;5;66;03m# Plot values\u001b[39;00m\n\u001b[1;32m----> 3\u001b[0m \u001b[43msns\u001b[49m\u001b[38;5;241;43m.\u001b[39;49m\u001b[43mregplot\u001b[49m\u001b[43m(\u001b[49m\u001b[43mx\u001b[49m\u001b[38;5;241;43m=\u001b[39;49m\u001b[38;5;124;43m\"\u001b[39;49m\u001b[38;5;124;43mIMDScore\u001b[39;49m\u001b[38;5;124;43m\"\u001b[39;49m\u001b[43m,\u001b[49m\u001b[43m \u001b[49m\u001b[43my\u001b[49m\u001b[38;5;241;43m=\u001b[39;49m\u001b[38;5;124;43m\"\u001b[39;49m\u001b[38;5;124;43mw\u001b[39;49m\u001b[38;5;124;43m\"\u001b[39;49m\u001b[43m,\u001b[49m\u001b[43m \u001b[49m\u001b[43mdata\u001b[49m\u001b[38;5;241;43m=\u001b[39;49m\u001b[43mimd\u001b[49m\u001b[43m,\u001b[49m\u001b[43m \u001b[49m\u001b[43mci\u001b[49m\u001b[38;5;241;43m=\u001b[39;49m\u001b[38;5;28;43;01mNone\u001b[39;49;00m\u001b[43m)\u001b[49m\n\u001b[0;32m      4\u001b[0m \u001b[38;5;66;03m# Display\u001b[39;00m\n\u001b[0;32m      5\u001b[0m plt\u001b[38;5;241m.\u001b[39mshow()\n",
      "File \u001b[1;32mc:\\Users\\boazg\\AppData\\Local\\Programs\\Python\\Python312\\Lib\\site-packages\\seaborn\\regression.py:763\u001b[0m, in \u001b[0;36mregplot\u001b[1;34m(data, x, y, x_estimator, x_bins, x_ci, scatter, fit_reg, ci, n_boot, units, seed, order, logistic, lowess, robust, logx, x_partial, y_partial, truncate, dropna, x_jitter, y_jitter, label, color, marker, scatter_kws, line_kws, ax)\u001b[0m\n\u001b[0;32m    752\u001b[0m \u001b[38;5;28;01mdef\u001b[39;00m \u001b[38;5;21mregplot\u001b[39m(\n\u001b[0;32m    753\u001b[0m     data\u001b[38;5;241m=\u001b[39m\u001b[38;5;28;01mNone\u001b[39;00m, \u001b[38;5;241m*\u001b[39m, x\u001b[38;5;241m=\u001b[39m\u001b[38;5;28;01mNone\u001b[39;00m, y\u001b[38;5;241m=\u001b[39m\u001b[38;5;28;01mNone\u001b[39;00m,\n\u001b[0;32m    754\u001b[0m     x_estimator\u001b[38;5;241m=\u001b[39m\u001b[38;5;28;01mNone\u001b[39;00m, x_bins\u001b[38;5;241m=\u001b[39m\u001b[38;5;28;01mNone\u001b[39;00m, x_ci\u001b[38;5;241m=\u001b[39m\u001b[38;5;124m\"\u001b[39m\u001b[38;5;124mci\u001b[39m\u001b[38;5;124m\"\u001b[39m,\n\u001b[1;32m   (...)\u001b[0m\n\u001b[0;32m    760\u001b[0m     scatter_kws\u001b[38;5;241m=\u001b[39m\u001b[38;5;28;01mNone\u001b[39;00m, line_kws\u001b[38;5;241m=\u001b[39m\u001b[38;5;28;01mNone\u001b[39;00m, ax\u001b[38;5;241m=\u001b[39m\u001b[38;5;28;01mNone\u001b[39;00m\n\u001b[0;32m    761\u001b[0m ):\n\u001b[1;32m--> 763\u001b[0m     plotter \u001b[38;5;241m=\u001b[39m \u001b[43m_RegressionPlotter\u001b[49m\u001b[43m(\u001b[49m\u001b[43mx\u001b[49m\u001b[43m,\u001b[49m\u001b[43m \u001b[49m\u001b[43my\u001b[49m\u001b[43m,\u001b[49m\u001b[43m \u001b[49m\u001b[43mdata\u001b[49m\u001b[43m,\u001b[49m\u001b[43m \u001b[49m\u001b[43mx_estimator\u001b[49m\u001b[43m,\u001b[49m\u001b[43m \u001b[49m\u001b[43mx_bins\u001b[49m\u001b[43m,\u001b[49m\u001b[43m \u001b[49m\u001b[43mx_ci\u001b[49m\u001b[43m,\u001b[49m\n\u001b[0;32m    764\u001b[0m \u001b[43m                                 \u001b[49m\u001b[43mscatter\u001b[49m\u001b[43m,\u001b[49m\u001b[43m \u001b[49m\u001b[43mfit_reg\u001b[49m\u001b[43m,\u001b[49m\u001b[43m \u001b[49m\u001b[43mci\u001b[49m\u001b[43m,\u001b[49m\u001b[43m \u001b[49m\u001b[43mn_boot\u001b[49m\u001b[43m,\u001b[49m\u001b[43m \u001b[49m\u001b[43munits\u001b[49m\u001b[43m,\u001b[49m\u001b[43m \u001b[49m\u001b[43mseed\u001b[49m\u001b[43m,\u001b[49m\n\u001b[0;32m    765\u001b[0m \u001b[43m                                 \u001b[49m\u001b[43morder\u001b[49m\u001b[43m,\u001b[49m\u001b[43m \u001b[49m\u001b[43mlogistic\u001b[49m\u001b[43m,\u001b[49m\u001b[43m \u001b[49m\u001b[43mlowess\u001b[49m\u001b[43m,\u001b[49m\u001b[43m \u001b[49m\u001b[43mrobust\u001b[49m\u001b[43m,\u001b[49m\u001b[43m \u001b[49m\u001b[43mlogx\u001b[49m\u001b[43m,\u001b[49m\n\u001b[0;32m    766\u001b[0m \u001b[43m                                 \u001b[49m\u001b[43mx_partial\u001b[49m\u001b[43m,\u001b[49m\u001b[43m \u001b[49m\u001b[43my_partial\u001b[49m\u001b[43m,\u001b[49m\u001b[43m \u001b[49m\u001b[43mtruncate\u001b[49m\u001b[43m,\u001b[49m\u001b[43m \u001b[49m\u001b[43mdropna\u001b[49m\u001b[43m,\u001b[49m\n\u001b[0;32m    767\u001b[0m \u001b[43m                                 \u001b[49m\u001b[43mx_jitter\u001b[49m\u001b[43m,\u001b[49m\u001b[43m \u001b[49m\u001b[43my_jitter\u001b[49m\u001b[43m,\u001b[49m\u001b[43m \u001b[49m\u001b[43mcolor\u001b[49m\u001b[43m,\u001b[49m\u001b[43m \u001b[49m\u001b[43mlabel\u001b[49m\u001b[43m)\u001b[49m\n\u001b[0;32m    769\u001b[0m     \u001b[38;5;28;01mif\u001b[39;00m ax \u001b[38;5;129;01mis\u001b[39;00m \u001b[38;5;28;01mNone\u001b[39;00m:\n\u001b[0;32m    770\u001b[0m         ax \u001b[38;5;241m=\u001b[39m plt\u001b[38;5;241m.\u001b[39mgca()\n",
      "File \u001b[1;32mc:\\Users\\boazg\\AppData\\Local\\Programs\\Python\\Python312\\Lib\\site-packages\\seaborn\\regression.py:107\u001b[0m, in \u001b[0;36m_RegressionPlotter.__init__\u001b[1;34m(self, x, y, data, x_estimator, x_bins, x_ci, scatter, fit_reg, ci, n_boot, units, seed, order, logistic, lowess, robust, logx, x_partial, y_partial, truncate, dropna, x_jitter, y_jitter, color, label)\u001b[0m\n\u001b[0;32m    104\u001b[0m     \u001b[38;5;28;01mraise\u001b[39;00m \u001b[38;5;167;01mValueError\u001b[39;00m(\u001b[38;5;124m\"\u001b[39m\u001b[38;5;124mMutually exclusive regression options.\u001b[39m\u001b[38;5;124m\"\u001b[39m)\n\u001b[0;32m    106\u001b[0m \u001b[38;5;66;03m# Extract the data vals from the arguments or passed dataframe\u001b[39;00m\n\u001b[1;32m--> 107\u001b[0m \u001b[38;5;28;43mself\u001b[39;49m\u001b[38;5;241;43m.\u001b[39;49m\u001b[43mestablish_variables\u001b[49m\u001b[43m(\u001b[49m\u001b[43mdata\u001b[49m\u001b[43m,\u001b[49m\u001b[43m \u001b[49m\u001b[43mx\u001b[49m\u001b[38;5;241;43m=\u001b[39;49m\u001b[43mx\u001b[49m\u001b[43m,\u001b[49m\u001b[43m \u001b[49m\u001b[43my\u001b[49m\u001b[38;5;241;43m=\u001b[39;49m\u001b[43my\u001b[49m\u001b[43m,\u001b[49m\u001b[43m \u001b[49m\u001b[43munits\u001b[49m\u001b[38;5;241;43m=\u001b[39;49m\u001b[43munits\u001b[49m\u001b[43m,\u001b[49m\n\u001b[0;32m    108\u001b[0m \u001b[43m                         \u001b[49m\u001b[43mx_partial\u001b[49m\u001b[38;5;241;43m=\u001b[39;49m\u001b[43mx_partial\u001b[49m\u001b[43m,\u001b[49m\u001b[43m \u001b[49m\u001b[43my_partial\u001b[49m\u001b[38;5;241;43m=\u001b[39;49m\u001b[43my_partial\u001b[49m\u001b[43m)\u001b[49m\n\u001b[0;32m    110\u001b[0m \u001b[38;5;66;03m# Drop null observations\u001b[39;00m\n\u001b[0;32m    111\u001b[0m \u001b[38;5;28;01mif\u001b[39;00m dropna:\n",
      "File \u001b[1;32mc:\\Users\\boazg\\AppData\\Local\\Programs\\Python\\Python312\\Lib\\site-packages\\seaborn\\regression.py:44\u001b[0m, in \u001b[0;36m_LinearPlotter.establish_variables\u001b[1;34m(self, data, **kws)\u001b[0m\n\u001b[0;32m     42\u001b[0m \u001b[38;5;28;01mfor\u001b[39;00m var, val \u001b[38;5;129;01min\u001b[39;00m kws\u001b[38;5;241m.\u001b[39mitems():\n\u001b[0;32m     43\u001b[0m     \u001b[38;5;28;01mif\u001b[39;00m \u001b[38;5;28misinstance\u001b[39m(val, \u001b[38;5;28mstr\u001b[39m):\n\u001b[1;32m---> 44\u001b[0m         vector \u001b[38;5;241m=\u001b[39m \u001b[43mdata\u001b[49m\u001b[43m[\u001b[49m\u001b[43mval\u001b[49m\u001b[43m]\u001b[49m\n\u001b[0;32m     45\u001b[0m     \u001b[38;5;28;01melif\u001b[39;00m \u001b[38;5;28misinstance\u001b[39m(val, \u001b[38;5;28mlist\u001b[39m):\n\u001b[0;32m     46\u001b[0m         vector \u001b[38;5;241m=\u001b[39m np\u001b[38;5;241m.\u001b[39masarray(val)\n",
      "File \u001b[1;32mc:\\Users\\boazg\\AppData\\Local\\Programs\\Python\\Python312\\Lib\\site-packages\\geopandas\\geodataframe.py:1459\u001b[0m, in \u001b[0;36mGeoDataFrame.__getitem__\u001b[1;34m(self, key)\u001b[0m\n\u001b[0;32m   1453\u001b[0m \u001b[38;5;28;01mdef\u001b[39;00m \u001b[38;5;21m__getitem__\u001b[39m(\u001b[38;5;28mself\u001b[39m, key):\n\u001b[0;32m   1454\u001b[0m \u001b[38;5;250m    \u001b[39m\u001b[38;5;124;03m\"\"\"\u001b[39;00m\n\u001b[0;32m   1455\u001b[0m \u001b[38;5;124;03m    If the result is a column containing only 'geometry', return a\u001b[39;00m\n\u001b[0;32m   1456\u001b[0m \u001b[38;5;124;03m    GeoSeries. If it's a DataFrame with any columns of GeometryDtype,\u001b[39;00m\n\u001b[0;32m   1457\u001b[0m \u001b[38;5;124;03m    return a GeoDataFrame.\u001b[39;00m\n\u001b[0;32m   1458\u001b[0m \u001b[38;5;124;03m    \"\"\"\u001b[39;00m\n\u001b[1;32m-> 1459\u001b[0m     result \u001b[38;5;241m=\u001b[39m \u001b[38;5;28;43msuper\u001b[39;49m\u001b[43m(\u001b[49m\u001b[43m)\u001b[49m\u001b[38;5;241;43m.\u001b[39;49m\u001b[38;5;21;43m__getitem__\u001b[39;49m\u001b[43m(\u001b[49m\u001b[43mkey\u001b[49m\u001b[43m)\u001b[49m\n\u001b[0;32m   1460\u001b[0m     \u001b[38;5;66;03m# Custom logic to avoid waiting for pandas GH51895\u001b[39;00m\n\u001b[0;32m   1461\u001b[0m     \u001b[38;5;66;03m# result is not geometry dtype for multi-indexes\u001b[39;00m\n\u001b[0;32m   1462\u001b[0m     \u001b[38;5;28;01mif\u001b[39;00m (\n\u001b[0;32m   1463\u001b[0m         pd\u001b[38;5;241m.\u001b[39mapi\u001b[38;5;241m.\u001b[39mtypes\u001b[38;5;241m.\u001b[39mis_scalar(key)\n\u001b[0;32m   1464\u001b[0m         \u001b[38;5;129;01mand\u001b[39;00m key \u001b[38;5;241m==\u001b[39m \u001b[38;5;124m\"\u001b[39m\u001b[38;5;124m\"\u001b[39m\n\u001b[1;32m   (...)\u001b[0m\n\u001b[0;32m   1467\u001b[0m         \u001b[38;5;129;01mand\u001b[39;00m \u001b[38;5;129;01mnot\u001b[39;00m is_geometry_type(result)\n\u001b[0;32m   1468\u001b[0m     ):\n",
      "File \u001b[1;32mc:\\Users\\boazg\\AppData\\Local\\Programs\\Python\\Python312\\Lib\\site-packages\\pandas\\core\\frame.py:4102\u001b[0m, in \u001b[0;36mDataFrame.__getitem__\u001b[1;34m(self, key)\u001b[0m\n\u001b[0;32m   4100\u001b[0m \u001b[38;5;28;01mif\u001b[39;00m \u001b[38;5;28mself\u001b[39m\u001b[38;5;241m.\u001b[39mcolumns\u001b[38;5;241m.\u001b[39mnlevels \u001b[38;5;241m>\u001b[39m \u001b[38;5;241m1\u001b[39m:\n\u001b[0;32m   4101\u001b[0m     \u001b[38;5;28;01mreturn\u001b[39;00m \u001b[38;5;28mself\u001b[39m\u001b[38;5;241m.\u001b[39m_getitem_multilevel(key)\n\u001b[1;32m-> 4102\u001b[0m indexer \u001b[38;5;241m=\u001b[39m \u001b[38;5;28;43mself\u001b[39;49m\u001b[38;5;241;43m.\u001b[39;49m\u001b[43mcolumns\u001b[49m\u001b[38;5;241;43m.\u001b[39;49m\u001b[43mget_loc\u001b[49m\u001b[43m(\u001b[49m\u001b[43mkey\u001b[49m\u001b[43m)\u001b[49m\n\u001b[0;32m   4103\u001b[0m \u001b[38;5;28;01mif\u001b[39;00m is_integer(indexer):\n\u001b[0;32m   4104\u001b[0m     indexer \u001b[38;5;241m=\u001b[39m [indexer]\n",
      "File \u001b[1;32mc:\\Users\\boazg\\AppData\\Local\\Programs\\Python\\Python312\\Lib\\site-packages\\pandas\\core\\indexes\\base.py:3812\u001b[0m, in \u001b[0;36mIndex.get_loc\u001b[1;34m(self, key)\u001b[0m\n\u001b[0;32m   3807\u001b[0m     \u001b[38;5;28;01mif\u001b[39;00m \u001b[38;5;28misinstance\u001b[39m(casted_key, \u001b[38;5;28mslice\u001b[39m) \u001b[38;5;129;01mor\u001b[39;00m (\n\u001b[0;32m   3808\u001b[0m         \u001b[38;5;28misinstance\u001b[39m(casted_key, abc\u001b[38;5;241m.\u001b[39mIterable)\n\u001b[0;32m   3809\u001b[0m         \u001b[38;5;129;01mand\u001b[39;00m \u001b[38;5;28many\u001b[39m(\u001b[38;5;28misinstance\u001b[39m(x, \u001b[38;5;28mslice\u001b[39m) \u001b[38;5;28;01mfor\u001b[39;00m x \u001b[38;5;129;01min\u001b[39;00m casted_key)\n\u001b[0;32m   3810\u001b[0m     ):\n\u001b[0;32m   3811\u001b[0m         \u001b[38;5;28;01mraise\u001b[39;00m InvalidIndexError(key)\n\u001b[1;32m-> 3812\u001b[0m     \u001b[38;5;28;01mraise\u001b[39;00m \u001b[38;5;167;01mKeyError\u001b[39;00m(key) \u001b[38;5;28;01mfrom\u001b[39;00m \u001b[38;5;21;01merr\u001b[39;00m\n\u001b[0;32m   3813\u001b[0m \u001b[38;5;28;01mexcept\u001b[39;00m \u001b[38;5;167;01mTypeError\u001b[39;00m:\n\u001b[0;32m   3814\u001b[0m     \u001b[38;5;66;03m# If we have a listlike key, _check_indexing_error will raise\u001b[39;00m\n\u001b[0;32m   3815\u001b[0m     \u001b[38;5;66;03m#  InvalidIndexError. Otherwise we fall through and re-raise\u001b[39;00m\n\u001b[0;32m   3816\u001b[0m     \u001b[38;5;66;03m#  the TypeError.\u001b[39;00m\n\u001b[0;32m   3817\u001b[0m     \u001b[38;5;28mself\u001b[39m\u001b[38;5;241m.\u001b[39m_check_indexing_error(key)\n",
      "\u001b[1;31mKeyError\u001b[0m: 'w'"
     ]
    },
    {
     "data": {
      "image/png": "[encoded data removed]",
      "text/plain": [
       "<Figure size 900x900 with 1 Axes>"
      ]
     },
     "metadata": {},
     "output_type": "display_data"
    }
   ],
   "source": [
    "#not finished \n",
    "\n",
    "f, ax = plt.subplots(1, figsize=(9, 9))\n",
    "# Plot values\n",
    "sns.regplot(x=\"IMDScore\", y=\"w\", data=imd, ci=None)\n",
    "# Display\n",
    "plt.show()\n"
   ]
  }
 ],
 "metadata": {
  "kernelspec": {
   "display_name": "Python 3 (ipykernel)",
   "language": "python",
   "name": "python3"
  },
  "language_info": {
   "codemirror_mode": {
    "name": "ipython",
    "version": 3
   },
   "file_extension": ".py",
   "mimetype": "text/x-python",
   "name": "python",
   "nbconvert_exporter": "python",
   "pygments_lexer": "ipython3",
   "version": "3.12.5"
  }
 },
 "nbformat": 4,
 "nbformat_minor": 4
}
